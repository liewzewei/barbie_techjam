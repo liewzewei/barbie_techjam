{
 "cells": [
  {
   "cell_type": "code",
   "execution_count": null,
   "id": "634a04d8-2365-41c5-9e68-5da1a9ab944d",
   "metadata": {},
   "outputs": [],
   "source": [
    "import os\n",
    "import pandas as pd\n",
    "from transformers import pipeline\n",
    "from datasets import load_dataset, Dataset\n",
    "from tqdm import tqdm\n",
    "\n",
    "# Place the path of your cleaned csv here. The CSV should have a\n",
    "# column named 'cleaned_text'\n",
    "\n",
    "path = 'data/Cleaned_review-Alaska_10.csv'\n",
    "\n",
    "dataset = pd.read_csv(path)\n",
    "\n",
    "test = dataset.sample(n=100)"
   ]
  },
  {
   "cell_type": "code",
   "execution_count": null,
   "id": "5fc567ec-c76b-4ce4-b3e2-f7a91d5d8ca6",
   "metadata": {},
   "outputs": [],
   "source": [
    "# Example: load your CSV into a Hugging Face Dataset\n",
    "hf_dataset = Dataset.from_pandas(test)\n",
    "\n",
    "# Load zero-shot classification pipeline\n",
    "classifier = pipeline(\"zero-shot-classification\", \n",
    "                      model=\"facebook/bart-large-mnli\",\n",
    "                      batch_size=16)\n",
    "\n",
    "# defining labels\n",
    "candidate_labels = [\n",
    "    \"relevant – genuine review describing a real experience\",\n",
    "    \"irrelevant – advertisement or promotional content\",\n",
    "    \"irrelevant – marketing or self-promotion\",\n",
    "    \"irrelevant – contains discounts, sales, or offers\",\n",
    "    \"irrelevant – spammy content or repeated promotions\",\n",
    "    \"irrelevant – does not describe the business or location\",\n",
    "    \"irrelevant – mentions another place instead\",\n",
    "    \"irrelevant – talks about unrelated personal matters\",\n",
    "    \"irrelevant – contains generic statements with no context\",\n",
    "    \"irrelevant – rant without context or explanation\",\n",
    "    \"irrelevant – vague or emotional outburst only\",\n",
    "    \"irrelevant – contains only star ratings or short phrases with no details\",\n",
    "    \"irrelevant – irrelevant complaint with no connection to the service\",\n",
    "    \"irrelevant – duplicate review content\",\n",
    "    \"irrelevant – gibberish, nonsense text, or random characters\",\n",
    "    \"irrelevant – copy-pasted text not related to this location\",\n",
    "    \"irrelevant – repeated meaningless phrases or emojis\",\n",
    "    \"irrelevant – fake review not based on a real experience\",\n",
    "    \"irrelevant – misleading or fabricated content\",\n",
    "    \"irrelevant – hostile trolling or abusive language unrelated to the service\",\n",
    "    \"irrelevant – written in an unsupported language\",\n",
    "    \"irrelevant – contains only symbols, numbers, or links\",\n",
    "    \"irrelevant – irrelevant website links or contact info\"\n",
    "]\n",
    "\n",
    "# Define a processing function\n",
    "def classify_batch(batch):\n",
    "    results = classifier(\n",
    "        batch[\"cleaned_text\"],\n",
    "        candidate_labels,\n",
    "        multi_label=False\n",
    "    )\n",
    "    \n",
    "    # Extract top label for each review\n",
    "    preds = []\n",
    "    for r in results:\n",
    "        label = r[\"labels\"][0]\n",
    "        if label.startswith(\"relevant\"):\n",
    "            preds.append(1)\n",
    "        else:\n",
    "            preds.append(0)\n",
    "    return {\"classification\": preds}\n",
    "\n",
    "hf_dataset = hf_dataset.map(classify_batch, batched=True, batch_size=32)"
   ]
  },
  {
   "cell_type": "code",
   "execution_count": null,
   "id": "991d0051-327a-4c43-b272-f56fb4e19ff0",
   "metadata": {},
   "outputs": [],
   "source": [
    "pd_dataset = hf_dataset.to_pandas()\n",
    "pd_dataset_final = pd_dataset.drop('__index_level_0__',axis=1)"
   ]
  },
  {
   "cell_type": "code",
   "execution_count": null,
   "id": "d977eaa9-660e-4a01-aee9-7b79f60f7854",
   "metadata": {},
   "outputs": [],
   "source": [
    "pd_dataset_final.head()"
   ]
  },
  {
   "cell_type": "code",
   "execution_count": null,
   "id": "928f3202-edb1-406a-bb7b-31f278dcc765",
   "metadata": {},
   "outputs": [],
   "source": [
    "file_name = 'Labelled_' + os.path.basename(path)\n",
    "dir_name = os.path.dirname(path)\n",
    "save_path = os.path.join(dir_name,file_name)\n",
    "\n",
    "pd_dataset_final.to_csv(save_path,index=False)"
   ]
  }
 ],
 "metadata": {
  "kernelspec": {
   "display_name": "Python 3 (ipykernel)",
   "language": "python",
   "name": "python3"
  },
  "language_info": {
   "codemirror_mode": {
    "name": "ipython",
    "version": 3
   },
   "file_extension": ".py",
   "mimetype": "text/x-python",
   "name": "python",
   "nbconvert_exporter": "python",
   "pygments_lexer": "ipython3",
   "version": "3.11.11"
  }
 },
 "nbformat": 4,
 "nbformat_minor": 5
}
